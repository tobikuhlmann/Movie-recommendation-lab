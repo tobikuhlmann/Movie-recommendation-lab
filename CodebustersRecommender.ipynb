{
 "cells": [
  {
   "cell_type": "markdown",
   "metadata": {},
   "source": [
    "# Codebuster STAT 535 Statistical Computing Project\n",
    "## Movie recommendation recommendation pipeline\n",
    "\n",
    "#### Goal\n",
    "Build a small real world deployment pipeline like it can be used in netflix / amazon\n",
    "\n",
    "## Approach\n",
    "\n",
    "Deploy three different classifiers / recommenders, based on quality of user profile:\n",
    "\n",
    "1) Case 0 rated movies: Supervised prediction with just user age, gender, and year of the movie\n",
    "\n",
    " - In case of cold-start: No user information available\n",
    "\n",
    "2) Case < 20 rated movies: Content-based recommender system\n",
    "\n",
    " - Content-based recommendation information about users and their taste. As we can see in the preprocessing, most of the users only rated one to five movies, implying that we have incomplete user-profiles. I think content-based recommendation makes sense here, because we can recommend similar movies, but not other categories that a user might like because we can not identify similar users with an incomplete user profile.\n",
    "\n",
    "3) Case >=20 rated movies:  Collaborative recommender system\n",
    "\n",
    " - Collaborative filtering makes sense if you have a good user profile, which we assume we have if a user rated more or equal than 10 movies. With a good user profile we can identify similar users and make more sophisticated recommendations, e.g. movies from other genres.\n",
    "\n",
    "#### Dataset\n",
    "We use the movie recommendation lab dataset, which is a subset of the MovieLens dataset (https://grouplens.org/datasets/movielens/).\n",
    "\n",
    "\n"
   ]
  },
  {
   "cell_type": "markdown",
   "metadata": {},
   "source": [
    "## Literature\n",
    "\n",
    "- https://users.ece.cmu.edu/~dbatra/publications/assets/goel_batra_netflix.pdf\n",
    "- http://delivery.acm.org/10.1145/1460000/1454012/p11-park.pdf?ip=72.19.68.210&id=1454012&acc=ACTIVE%20SERVICE&key=73B3886B1AEFC4BB%2EB478147E31829731%2E4D4702B0C3E38B35%2E4D4702B0C3E38B35&__acm__=1543416754_7f92e0642e26e7ea732886879096c704\n",
    "- https://www.kaggle.com/prajitdatta/movielens-100k-dataset/kernels\n",
    "- https://medium.com/@james_aka_yale/the-4-recommendation-engines-that-can-predict-your-movie-tastes-bbec857b8223\n",
    "- https://www.kaggle.com/c/predict-movie-ratings\n",
    "- https://cseweb.ucsd.edu/classes/wi17/cse258-a/reports/a048.pdf\n",
    "- https://github.com/neilsummers/predict_movie_ratings/blob/master/movieratings.py\n",
    "- https://medium.com/@connectwithghosh/recommender-system-on-the-movielens-using-an-autoencoder-using-tensorflow-in-python-f13d3e8d600d\n",
    "### A few more\n",
    "- https://sci2s.ugr.es/keel/pdf/specific/congreso/xia_dong_06.pdf (Uses SMV for classification, then MF for recommendation)\n",
    "- https://www.kaggle.com/rounakbanik/movie-recommender-systems (Employs at least three Modules for recommendation)\n",
    "- http://citeseerx.ist.psu.edu/viewdoc/download?doi=10.1.1.703.4954&rep=rep1&type=pdf (Close to what we need, but a little too involving)\n",
    "- https://journals.plos.org/plosone/article?id=10.1371/journal.pone.0165868 (Uses SVM and correlation matrices...I have already tried the correlation approach, looks quite good, but how to quantify accuracy?)\n",
    "- https://www.quora.com/How-do-we-use-SVMs-in-a-collaborative-recommendation (A good thread on SVM)\n",
    "-http://www.quuxlabs.com/blog/2010/09/matrix-factorization-a-simple-tutorial-and-implementation-in-python/ (A good tutorial on matrix factorizasion)"
   ]
  },
  {
   "cell_type": "code",
   "execution_count": 82,
   "metadata": {},
   "outputs": [],
   "source": [
    "import numpy as np\n",
    "import pandas as pd\n",
    "import matplotlib.pyplot as plt\n",
    "%matplotlib inline\n",
    "\n",
    "from scipy import interp\n",
    "\n",
    "from sklearn.naive_bayes import GaussianNB\n",
    "from sklearn.ensemble import GradientBoostingClassifier\n",
    "\n",
    "from sklearn.feature_extraction.text import TfidfVectorizer\n",
    "from sklearn.metrics.pairwise import linear_kernel\n",
    "\n",
    "from sklearn.model_selection import cross_val_predict, cross_val_score, cross_validate, StratifiedKFold\n",
    "from sklearn.metrics import classification_report,confusion_matrix, roc_curve, auc"
   ]
  },
  {
   "cell_type": "markdown",
   "metadata": {},
   "source": [
    "## Data import and preprocessing"
   ]
  },
  {
   "cell_type": "code",
   "execution_count": 83,
   "metadata": {},
   "outputs": [
    {
     "name": "stdout",
     "output_type": "stream",
     "text": [
      "Shape: (31620, 10)\n"
     ]
    },
    {
     "data": {
      "text/html": [
       "<div>\n",
       "<style scoped>\n",
       "    .dataframe tbody tr th:only-of-type {\n",
       "        vertical-align: middle;\n",
       "    }\n",
       "\n",
       "    .dataframe tbody tr th {\n",
       "        vertical-align: top;\n",
       "    }\n",
       "\n",
       "    .dataframe thead th {\n",
       "        text-align: right;\n",
       "    }\n",
       "</style>\n",
       "<table border=\"1\" class=\"dataframe\">\n",
       "  <thead>\n",
       "    <tr style=\"text-align: right;\">\n",
       "      <th></th>\n",
       "      <th>userID</th>\n",
       "      <th>age</th>\n",
       "      <th>gender</th>\n",
       "      <th>movieID</th>\n",
       "      <th>name</th>\n",
       "      <th>year</th>\n",
       "      <th>genre1</th>\n",
       "      <th>genre2</th>\n",
       "      <th>genre3</th>\n",
       "      <th>rating</th>\n",
       "    </tr>\n",
       "  </thead>\n",
       "  <tbody>\n",
       "    <tr>\n",
       "      <th>0</th>\n",
       "      <td>747</td>\n",
       "      <td>1</td>\n",
       "      <td>F</td>\n",
       "      <td>1193</td>\n",
       "      <td>One Flew Over the Cuckoo's Nest</td>\n",
       "      <td>1975</td>\n",
       "      <td>Drama</td>\n",
       "      <td>NaN</td>\n",
       "      <td>NaN</td>\n",
       "      <td>5</td>\n",
       "    </tr>\n",
       "    <tr>\n",
       "      <th>1</th>\n",
       "      <td>747</td>\n",
       "      <td>1</td>\n",
       "      <td>F</td>\n",
       "      <td>661</td>\n",
       "      <td>James and the Giant Peach</td>\n",
       "      <td>1996</td>\n",
       "      <td>Animation</td>\n",
       "      <td>Children's</td>\n",
       "      <td>Musical</td>\n",
       "      <td>3</td>\n",
       "    </tr>\n",
       "  </tbody>\n",
       "</table>\n",
       "</div>"
      ],
      "text/plain": [
       "   userID  age gender  movieID                              name  year  \\\n",
       "0     747    1      F     1193  One Flew Over the Cuckoo's Nest   1975   \n",
       "1     747    1      F      661        James and the Giant Peach   1996   \n",
       "\n",
       "      genre1      genre2   genre3  rating  \n",
       "0      Drama         NaN      NaN       5  \n",
       "1  Animation  Children's  Musical       3  "
      ]
     },
     "execution_count": 83,
     "metadata": {},
     "output_type": "execute_result"
    }
   ],
   "source": [
    "# all data\n",
    "df = pd.read_csv(\"allData.tsv\", sep='\\t')\n",
    "print(f\"Shape: {df.shape}\")\n",
    "df.head(2)"
   ]
  },
  {
   "cell_type": "code",
   "execution_count": 84,
   "metadata": {},
   "outputs": [
    {
     "name": "stdout",
     "output_type": "stream",
     "text": [
      "Shape: (31620, 10)\n"
     ]
    },
    {
     "data": {
      "text/html": [
       "<div>\n",
       "<style scoped>\n",
       "    .dataframe tbody tr th:only-of-type {\n",
       "        vertical-align: middle;\n",
       "    }\n",
       "\n",
       "    .dataframe tbody tr th {\n",
       "        vertical-align: top;\n",
       "    }\n",
       "\n",
       "    .dataframe thead th {\n",
       "        text-align: right;\n",
       "    }\n",
       "</style>\n",
       "<table border=\"1\" class=\"dataframe\">\n",
       "  <thead>\n",
       "    <tr style=\"text-align: right;\">\n",
       "      <th></th>\n",
       "      <th>movieID</th>\n",
       "      <th>name</th>\n",
       "      <th>year</th>\n",
       "      <th>genre1</th>\n",
       "      <th>genre2</th>\n",
       "      <th>genre3</th>\n",
       "    </tr>\n",
       "  </thead>\n",
       "  <tbody>\n",
       "    <tr>\n",
       "      <th>0</th>\n",
       "      <td>1</td>\n",
       "      <td>Toy Story</td>\n",
       "      <td>1995</td>\n",
       "      <td>Animation</td>\n",
       "      <td>Children's</td>\n",
       "      <td>Comedy</td>\n",
       "    </tr>\n",
       "    <tr>\n",
       "      <th>1</th>\n",
       "      <td>2</td>\n",
       "      <td>Jumanji</td>\n",
       "      <td>1995</td>\n",
       "      <td>Adventure</td>\n",
       "      <td>Children's</td>\n",
       "      <td>Fantasy</td>\n",
       "    </tr>\n",
       "    <tr>\n",
       "      <th>2</th>\n",
       "      <td>3</td>\n",
       "      <td>Grumpier Old Men</td>\n",
       "      <td>1995</td>\n",
       "      <td>Comedy</td>\n",
       "      <td>Romance</td>\n",
       "      <td>NaN</td>\n",
       "    </tr>\n",
       "    <tr>\n",
       "      <th>3</th>\n",
       "      <td>4</td>\n",
       "      <td>Waiting to Exhale</td>\n",
       "      <td>1995</td>\n",
       "      <td>Comedy</td>\n",
       "      <td>Drama</td>\n",
       "      <td>NaN</td>\n",
       "    </tr>\n",
       "    <tr>\n",
       "      <th>4</th>\n",
       "      <td>5</td>\n",
       "      <td>Father of the Bride Part II</td>\n",
       "      <td>1995</td>\n",
       "      <td>Comedy</td>\n",
       "      <td>NaN</td>\n",
       "      <td>NaN</td>\n",
       "    </tr>\n",
       "  </tbody>\n",
       "</table>\n",
       "</div>"
      ],
      "text/plain": [
       "   movieID                          name  year     genre1      genre2   genre3\n",
       "0        1                    Toy Story   1995  Animation  Children's   Comedy\n",
       "1        2                      Jumanji   1995  Adventure  Children's  Fantasy\n",
       "2        3             Grumpier Old Men   1995     Comedy     Romance      NaN\n",
       "3        4            Waiting to Exhale   1995     Comedy       Drama      NaN\n",
       "4        5  Father of the Bride Part II   1995     Comedy         NaN      NaN"
      ]
     },
     "execution_count": 84,
     "metadata": {},
     "output_type": "execute_result"
    }
   ],
   "source": [
    "# movie data\n",
    "movies = pd.read_csv(\"movies.tsv\", sep='\\t')\n",
    "print(f\"Shape: {df.shape}\")\n",
    "movies.head()"
   ]
  },
  {
   "cell_type": "markdown",
   "metadata": {},
   "source": [
    "##### Transform numerical rating to binary\n",
    "- 1, if user rates movie 4 or 5\n",
    "- 0, if user rates movie less than 4"
   ]
  },
  {
   "cell_type": "code",
   "execution_count": 85,
   "metadata": {},
   "outputs": [],
   "source": [
    "df['rating'].mask(df['rating'] < 4, 0, inplace=True)\n",
    "df['rating'].mask(df['rating'] > 3, 1, inplace=True)"
   ]
  },
  {
   "cell_type": "markdown",
   "metadata": {},
   "source": [
    "## 1) Classifier without specific user-information\n",
    "Scott's part"
   ]
  },
  {
   "cell_type": "code",
   "execution_count": 91,
   "metadata": {},
   "outputs": [
    {
     "name": "stdout",
     "output_type": "stream",
     "text": [
      "GradientBoostingClassifier\n",
      "                                        name\n",
      "movieID                                     \n",
      "3408                        Erin Brockovich \n",
      "908                      North by Northwest \n",
      "2859                      Stop Making Sense \n",
      "1094                       Crying Game, The \n",
      "260      Star Wars: Episode IV - A New Hope \n"
     ]
    },
    {
     "name": "stderr",
     "output_type": "stream",
     "text": [
      "/Users/tobias/anaconda3/lib/python3.6/site-packages/ipykernel_launcher.py:26: SettingWithCopyWarning: \n",
      "A value is trying to be set on a copy of a slice from a DataFrame.\n",
      "Try using .loc[row_indexer,col_indexer] = value instead\n",
      "\n",
      "See the caveats in the documentation: http://pandas.pydata.org/pandas-docs/stable/indexing.html#indexing-view-versus-copy\n"
     ]
    }
   ],
   "source": [
    "def recommendation_without_user_info(df):\n",
    "    '''\n",
    "    function returns 5 random movies which have been recommended by a gradient boosting classifier\n",
    "    without user information\n",
    "    \n",
    "    @param df: movie dataset 'allData'\n",
    "    '''\n",
    "    # User information before any movie ratings\n",
    "    X = df[['age', 'gender', 'year', 'genre1', 'genre2', 'genre3']]\n",
    "    y = df['rating'].as_matrix()\n",
    "\n",
    "    # Preprocessing\n",
    "    # One hot encoding\n",
    "    dummyvars = pd.get_dummies(X[['gender', 'genre1', 'genre2', 'genre3']])\n",
    "    # append the dummy variables to df\n",
    "    X = pd.concat([X[['age', 'year']], dummyvars], axis = 1).as_matrix()\n",
    "\n",
    "    print(\"GradientBoostingClassifier\")\n",
    "    gbclf = GradientBoostingClassifier(n_estimators=100)\n",
    "    gbclf.fit(X=X, y=y)\n",
    "    \n",
    "    # concat user age and gender with movie information, and make predictions\n",
    "    # e.g. user age 25 and male\n",
    "    X = df[['age', 'gender', 'year', 'genre1', 'genre2', 'genre3']]\n",
    "    # set age\n",
    "    X['age'] = 25\n",
    "    dummyvars = pd.get_dummies(X[['gender', 'genre1', 'genre2', 'genre3']])\n",
    "    # set gender\n",
    "    dummyvars['gender_F'] = 0\n",
    "    dummyvars['gender_M'] = 1\n",
    "    # append the dummy variables to df\n",
    "    X = pd.concat([X[['age', 'year']], dummyvars], axis = 1).as_matrix()\n",
    "\n",
    "    # make predictions\n",
    "    y_pred = gbclf.predict(X=X)\n",
    "    \n",
    "    # concat predictions to movie information\n",
    "    df_pred = pd.concat([df[['movieID', 'name']], pd.DataFrame(y_pred, index=df.index, columns=['pred_rating'])], axis = 1)\n",
    "    # shuffle 5 random movies with rating 1\n",
    "    df_pred = df_pred[df_pred.pred_rating==1]\n",
    "    recommendation = df_pred.drop('pred_rating', axis=1).sample(5, random_state=10).set_index('movieID')\n",
    "    \n",
    "    return recommendation\n",
    "\n",
    "# test function\n",
    "print(recommendation_without_user_info(df=df))\n",
    "    "
   ]
  },
  {
   "cell_type": "markdown",
   "metadata": {},
   "source": [
    "## 2) Content-based recommender\n",
    "Tobias' part"
   ]
  },
  {
   "cell_type": "code",
   "execution_count": null,
   "metadata": {},
   "outputs": [],
   "source": [
    "# find out from user input a movie that he rated"
   ]
  },
  {
   "cell_type": "code",
   "execution_count": null,
   "metadata": {},
   "outputs": [],
   "source": []
  },
  {
   "cell_type": "code",
   "execution_count": null,
   "metadata": {},
   "outputs": [],
   "source": []
  },
  {
   "cell_type": "code",
   "execution_count": null,
   "metadata": {},
   "outputs": [],
   "source": []
  },
  {
   "cell_type": "code",
   "execution_count": null,
   "metadata": {},
   "outputs": [],
   "source": []
  },
  {
   "cell_type": "markdown",
   "metadata": {},
   "source": [
    "## 3) Collaborative recommender\n",
    "Sixtus' part"
   ]
  },
  {
   "cell_type": "code",
   "execution_count": null,
   "metadata": {},
   "outputs": [],
   "source": []
  },
  {
   "cell_type": "code",
   "execution_count": null,
   "metadata": {},
   "outputs": [],
   "source": []
  },
  {
   "cell_type": "code",
   "execution_count": null,
   "metadata": {},
   "outputs": [],
   "source": []
  },
  {
   "cell_type": "markdown",
   "metadata": {},
   "source": [
    "## Combined Recommender: CodebustersRecommender\n",
    "Fits all three recommendation methods in fit method. When predicting, predict method assesses quality of user profile and predicts with respective method."
   ]
  },
  {
   "cell_type": "code",
   "execution_count": null,
   "metadata": {},
   "outputs": [],
   "source": [
    "# ToDo: Fill template with our logic \n",
    "\n",
    "class TemplateClassifier():\n",
    "    \"\"\" \n",
    "    Implements a three stage recommendation system with a gradient boosting classifier, \n",
    "    a content-based recommender, and collaborative filter\n",
    "    \"\"\"\n",
    "    def __init__(self, ):\n",
    "        \n",
    "\n",
    "    def fit(self, X, y):\n",
    "        \"\"\"\n",
    "        ----------\n",
    "        X : array-like, shape (n_samples, n_features)\n",
    "            The training input samples.\n",
    "        y : array-like, shape (n_samples,)\n",
    "            The target values. An array of int.\n",
    "        Returns\n",
    "        -------\n",
    "        self : object\n",
    "            Returns self.\n",
    "        \"\"\"\n",
    "        # 1) fit gradient boosting classifier\n",
    "        \n",
    "        \n",
    "        # 2) fit content-based recommender\n",
    "        \n",
    "        \n",
    "        # 3) fit collaborative recommender\n",
    "        \n",
    "\n",
    "        self.X_ = X\n",
    "        self.y_ = y\n",
    "        # Return the classifier\n",
    "        return self\n",
    "\n",
    "    def predict(self, X):\n",
    "        \"\"\"\n",
    "        ----------\n",
    "        X : array-like, shape (n_samples, n_features)\n",
    "            The input samples.\n",
    "        Returns\n",
    "        -------\n",
    "        y : ndarray, shape (n_samples,)\n",
    "            The label for each sample is the label of the closest sample\n",
    "            seen udring fit.\n",
    "        \"\"\"\n",
    "        \n",
    "        # 1) predict with gradient boosting classifier\n",
    "        \n",
    "        \n",
    "        # 2) predict with content-based recommender\n",
    "        \n",
    "        \n",
    "        # 3) predict with collaborative recommender\n",
    "        \n",
    "        \n",
    "        \n",
    "        return self.y_[closest]\n"
   ]
  },
  {
   "cell_type": "code",
   "execution_count": null,
   "metadata": {},
   "outputs": [],
   "source": []
  },
  {
   "cell_type": "markdown",
   "metadata": {},
   "source": [
    "## Evaluation"
   ]
  },
  {
   "cell_type": "markdown",
   "metadata": {},
   "source": [
    "##### Problems with evaluation\n",
    "- Evaluation with a metric for content-based and collaborative approach is hardly possible, because a lot of recommended movies haven't been rated by the initial user yet!\n",
    "    - 1) Simple Classifier without user info\n",
    "        - Precision / Recall evaluation\n",
    "    - 2) Content-based recommendation\n",
    "        - Precision / Recall hardly possible, instead just recommend movies\n",
    "    - 3) Collaborative recommendation\n",
    "        - Precision / Recall hardly possible, instead just recommend movies\n",
    "        \n",
    "##### Possible solutions\n",
    "- Way larger datasets which are not as sparse\n",
    "\n",
    "- Evaluate user's reaction after recommendation is given (e.g. in Netflix, if he likes the movie)\n"
   ]
  },
  {
   "cell_type": "code",
   "execution_count": null,
   "metadata": {},
   "outputs": [],
   "source": [
    "# Cross Validation to test and anticipate overfitting problem\n",
    "def crossvalidate(clf, X,y):\n",
    "    '''\n",
    "    Calculate precision, recall, and roc_auc for a 10-fold cross validation run with passed classifier\n",
    "    '''\n",
    "    scores1 = cross_val_score(clf, X, y, cv=10, scoring='precision')\n",
    "    scores2 = cross_val_score(clf, X, y, cv=10, scoring='recall')\n",
    "    scores3 = cross_val_score(clf, X, y, cv=10, scoring='roc_auc')\n",
    "    # The mean score and standard deviation of the score estimate\n",
    "    print(\"Cross Validation Precision: %0.2f (+/- %0.2f)\" % (scores1.mean(), scores1.std()))\n",
    "    print(\"Cross Validation Recall: %0.2f (+/- %0.2f)\" % (scores2.mean(), scores2.std()))\n",
    "    print(\"Cross Validation roc_auc: %0.2f (+/- %0.2f)\" % (scores3.mean(), scores3.std()))"
   ]
  },
  {
   "cell_type": "code",
   "execution_count": null,
   "metadata": {},
   "outputs": [],
   "source": [
    "# Run classifier with cross-validation and plot ROC curves\n",
    "# from http://scikit-learn.org/stable/auto_examples/model_selection/plot_roc_crossval.html\n",
    "def get_crossval_roc(clfname, classifier,X,y):\n",
    "    '''\n",
    "    Run classifier with cross-validation and plot ROC curves\n",
    "    '''\n",
    "    n_samples, n_features = X.shape\n",
    "    \n",
    "    cv = StratifiedKFold(n_splits=6)\n",
    "\n",
    "    tprs = []\n",
    "    aucs = []\n",
    "    mean_fpr = np.linspace(0, 1, 100)\n",
    "\n",
    "    i = 0\n",
    "    for train, test in cv.split(X, y):\n",
    "        probas_ = classifier.fit(X[train], y[train]).predict_proba(X[test])\n",
    "        # Compute ROC curve and area the curve\n",
    "        fpr, tpr, thresholds = roc_curve(y[test], probas_[:, 1])\n",
    "        tprs.append(interp(mean_fpr, fpr, tpr))\n",
    "        tprs[-1][0] = 0.0\n",
    "        roc_auc = auc(fpr, tpr)\n",
    "        aucs.append(roc_auc)\n",
    "        plt.plot(fpr, tpr, lw=1, alpha=0.3,\n",
    "                 label='ROC fold %d (AUC = %0.2f)' % (i, roc_auc))\n",
    "\n",
    "        i += 1\n",
    "    plt.plot([0, 1], [0, 1], linestyle='--', lw=2, color='r',\n",
    "             label='Chance', alpha=.8)\n",
    "\n",
    "    mean_tpr = np.mean(tprs, axis=0)\n",
    "    mean_tpr[-1] = 1.0\n",
    "    mean_auc = auc(mean_fpr, mean_tpr)\n",
    "    std_auc = np.std(aucs)\n",
    "    plt.plot(mean_fpr, mean_tpr, color='b',\n",
    "             label=r'Mean ROC (AUC = %0.2f $\\pm$ %0.2f)' % (mean_auc, std_auc),\n",
    "             lw=2, alpha=.8)\n",
    "\n",
    "    std_tpr = np.std(tprs, axis=0)\n",
    "    tprs_upper = np.minimum(mean_tpr + std_tpr, 1)\n",
    "    tprs_lower = np.maximum(mean_tpr - std_tpr, 0)\n",
    "    plt.fill_between(mean_fpr, tprs_lower, tprs_upper, color='grey', alpha=.2,\n",
    "                     label=r'$\\pm$ 1 std. dev.')\n",
    "\n",
    "    plt.xlim([-0.05, 1.05])\n",
    "    plt.ylim([-0.05, 1.05])\n",
    "    plt.xlabel('False Positive Rate')\n",
    "    plt.ylabel('True Positive Rate')\n",
    "    plt.title('Receiver operating characteristic example')\n",
    "    plt.legend(loc=\"lower right\")\n",
    "    plt.show()\n",
    "    \n",
    "    return"
   ]
  },
  {
   "cell_type": "code",
   "execution_count": null,
   "metadata": {},
   "outputs": [],
   "source": []
  },
  {
   "cell_type": "code",
   "execution_count": null,
   "metadata": {},
   "outputs": [],
   "source": []
  },
  {
   "cell_type": "markdown",
   "metadata": {},
   "source": [
    "## Lessons learnt"
   ]
  },
  {
   "cell_type": "code",
   "execution_count": null,
   "metadata": {},
   "outputs": [],
   "source": []
  }
 ],
 "metadata": {
  "kernelspec": {
   "display_name": "Python 3",
   "language": "python",
   "name": "python3"
  },
  "language_info": {
   "codemirror_mode": {
    "name": "ipython",
    "version": 3
   },
   "file_extension": ".py",
   "mimetype": "text/x-python",
   "name": "python",
   "nbconvert_exporter": "python",
   "pygments_lexer": "ipython3",
   "version": "3.6.3"
  }
 },
 "nbformat": 4,
 "nbformat_minor": 2
}
