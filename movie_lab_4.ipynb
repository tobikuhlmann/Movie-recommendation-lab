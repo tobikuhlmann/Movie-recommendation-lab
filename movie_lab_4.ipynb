{
 "cells": [
  {
   "cell_type": "code",
   "execution_count": 14,
   "metadata": {
    "collapsed": true
   },
   "outputs": [],
   "source": [
    "import numpy as np\n",
    "\n",
    "import pandas as pd\n",
    "\n",
    "import sklearn.model_selection as model_selection\n",
    "from sklearn.linear_model import LogisticRegression, LinearRegression\n",
    "from sklearn.model_selection import train_test_split\n",
    "\n",
    "from sklearn.model_selection import cross_val_predict, cross_validate\n",
    "from sklearn import linear_model\n",
    "\n",
    "#convenient for running multiple linear regression with few lines of code\n",
    "import statsmodels.formula.api as smf\n",
    "\n",
    "\n",
    "import matplotlib.pyplot as plt\n",
    "%matplotlib inline"
   ]
  },
  {
   "cell_type": "markdown",
   "metadata": {},
   "source": [
    "## Import Movie data"
   ]
  },
  {
   "cell_type": "code",
   "execution_count": 36,
   "metadata": {},
   "outputs": [
    {
     "data": {
      "text/html": [
       "<div>\n",
       "<style>\n",
       "    .dataframe thead tr:only-child th {\n",
       "        text-align: right;\n",
       "    }\n",
       "\n",
       "    .dataframe thead th {\n",
       "        text-align: left;\n",
       "    }\n",
       "\n",
       "    .dataframe tbody tr th {\n",
       "        vertical-align: top;\n",
       "    }\n",
       "</style>\n",
       "<table border=\"1\" class=\"dataframe\">\n",
       "  <thead>\n",
       "    <tr style=\"text-align: right;\">\n",
       "      <th></th>\n",
       "      <th>userID</th>\n",
       "      <th>age</th>\n",
       "      <th>gender</th>\n",
       "      <th>movieID</th>\n",
       "      <th>name</th>\n",
       "      <th>year</th>\n",
       "      <th>genre1</th>\n",
       "      <th>genre2</th>\n",
       "      <th>genre3</th>\n",
       "      <th>rating</th>\n",
       "    </tr>\n",
       "  </thead>\n",
       "  <tbody>\n",
       "    <tr>\n",
       "      <th>0</th>\n",
       "      <td>747</td>\n",
       "      <td>1</td>\n",
       "      <td>F</td>\n",
       "      <td>1193</td>\n",
       "      <td>One Flew Over the Cuckoo's Nest</td>\n",
       "      <td>1975</td>\n",
       "      <td>Drama</td>\n",
       "      <td>NaN</td>\n",
       "      <td>NaN</td>\n",
       "      <td>5</td>\n",
       "    </tr>\n",
       "    <tr>\n",
       "      <th>1</th>\n",
       "      <td>747</td>\n",
       "      <td>1</td>\n",
       "      <td>F</td>\n",
       "      <td>661</td>\n",
       "      <td>James and the Giant Peach</td>\n",
       "      <td>1996</td>\n",
       "      <td>Animation</td>\n",
       "      <td>Children's</td>\n",
       "      <td>Musical</td>\n",
       "      <td>3</td>\n",
       "    </tr>\n",
       "    <tr>\n",
       "      <th>2</th>\n",
       "      <td>747</td>\n",
       "      <td>1</td>\n",
       "      <td>F</td>\n",
       "      <td>2804</td>\n",
       "      <td>Christmas Story, A</td>\n",
       "      <td>1983</td>\n",
       "      <td>Comedy</td>\n",
       "      <td>Drama</td>\n",
       "      <td>NaN</td>\n",
       "      <td>5</td>\n",
       "    </tr>\n",
       "    <tr>\n",
       "      <th>3</th>\n",
       "      <td>747</td>\n",
       "      <td>1</td>\n",
       "      <td>F</td>\n",
       "      <td>919</td>\n",
       "      <td>Wizard of Oz, The</td>\n",
       "      <td>1939</td>\n",
       "      <td>Adventure</td>\n",
       "      <td>Children's</td>\n",
       "      <td>Drama</td>\n",
       "      <td>4</td>\n",
       "    </tr>\n",
       "    <tr>\n",
       "      <th>4</th>\n",
       "      <td>747</td>\n",
       "      <td>1</td>\n",
       "      <td>F</td>\n",
       "      <td>2791</td>\n",
       "      <td>Airplane!</td>\n",
       "      <td>1980</td>\n",
       "      <td>Comedy</td>\n",
       "      <td>NaN</td>\n",
       "      <td>NaN</td>\n",
       "      <td>4</td>\n",
       "    </tr>\n",
       "  </tbody>\n",
       "</table>\n",
       "</div>"
      ],
      "text/plain": [
       "   userID  age gender  movieID                              name  year  \\\n",
       "0     747    1      F     1193  One Flew Over the Cuckoo's Nest   1975   \n",
       "1     747    1      F      661        James and the Giant Peach   1996   \n",
       "2     747    1      F     2804               Christmas Story, A   1983   \n",
       "3     747    1      F      919                Wizard of Oz, The   1939   \n",
       "4     747    1      F     2791                        Airplane!   1980   \n",
       "\n",
       "      genre1      genre2   genre3  rating  \n",
       "0      Drama         NaN      NaN       5  \n",
       "1  Animation  Children's  Musical       3  \n",
       "2     Comedy       Drama      NaN       5  \n",
       "3  Adventure  Children's    Drama       4  \n",
       "4     Comedy         NaN      NaN       4  "
      ]
     },
     "execution_count": 36,
     "metadata": {},
     "output_type": "execute_result"
    }
   ],
   "source": [
    "data = pd.read_csv(\"allData.tsv\", sep='\\t')\n",
    "data.head()"
   ]
  },
  {
   "cell_type": "code",
   "execution_count": 15,
   "metadata": {},
   "outputs": [
    {
     "data": {
      "text/html": [
       "<div>\n",
       "<style>\n",
       "    .dataframe thead tr:only-child th {\n",
       "        text-align: right;\n",
       "    }\n",
       "\n",
       "    .dataframe thead th {\n",
       "        text-align: left;\n",
       "    }\n",
       "\n",
       "    .dataframe tbody tr th {\n",
       "        vertical-align: top;\n",
       "    }\n",
       "</style>\n",
       "<table border=\"1\" class=\"dataframe\">\n",
       "  <thead>\n",
       "    <tr style=\"text-align: right;\">\n",
       "      <th></th>\n",
       "      <th>userID</th>\n",
       "      <th>movieID</th>\n",
       "      <th>rating</th>\n",
       "    </tr>\n",
       "  </thead>\n",
       "  <tbody>\n",
       "    <tr>\n",
       "      <th>0</th>\n",
       "      <td>747</td>\n",
       "      <td>1193</td>\n",
       "      <td>5</td>\n",
       "    </tr>\n",
       "    <tr>\n",
       "      <th>1</th>\n",
       "      <td>747</td>\n",
       "      <td>661</td>\n",
       "      <td>3</td>\n",
       "    </tr>\n",
       "    <tr>\n",
       "      <th>2</th>\n",
       "      <td>747</td>\n",
       "      <td>2804</td>\n",
       "      <td>5</td>\n",
       "    </tr>\n",
       "    <tr>\n",
       "      <th>3</th>\n",
       "      <td>747</td>\n",
       "      <td>919</td>\n",
       "      <td>4</td>\n",
       "    </tr>\n",
       "    <tr>\n",
       "      <th>4</th>\n",
       "      <td>747</td>\n",
       "      <td>2791</td>\n",
       "      <td>4</td>\n",
       "    </tr>\n",
       "  </tbody>\n",
       "</table>\n",
       "</div>"
      ],
      "text/plain": [
       "   userID  movieID  rating\n",
       "0     747     1193       5\n",
       "1     747      661       3\n",
       "2     747     2804       5\n",
       "3     747      919       4\n",
       "4     747     2791       4"
      ]
     },
     "execution_count": 15,
     "metadata": {},
     "output_type": "execute_result"
    }
   ],
   "source": [
    "df_ratings = pd.read_csv('ratings.csv')\n",
    "df_ratings.head()"
   ]
  },
  {
   "cell_type": "markdown",
   "metadata": {
    "collapsed": true
   },
   "source": [
    "### Collaborative Filtering Implementation\n",
    "\n",
    "##### There are two approaches\n",
    "\n",
    "##### 1. Memory based approach: \n",
    "This can be divided into two, (i) user-item filtering and (ii) item-item filtering.\n",
    "\n",
    "In this, we basically calculate the closest the user or item using the Cosine similarity or Pearson correlation coefficients\n",
    "\n",
    "The cosine similarity for two users is computed as:\n",
    "\n",
    "$sim(u, u^{'}) = cos(\\theta) = \\frac{r_u.r_{u^{'}}}{||r_u||||r_{u^{'}}} = \\sum_i \\frac{r_{ui}r_{u^{'}i}}{\\sqrt{\\sum_ir_{ui}^2}\\sqrt{\\sum_ir_{u^{'}i}^2}}$\n",
    "\n",
    "Here $u$ and $u^{'}$ represents two different users.\n",
    "\n",
    "We can predict user-u’s rating for movie-i by taking weighted sum of movie-i ratings from all other users (u′s) where weighting is similarity number between each user and user-u.\n",
    "\n",
    "We now predict a users rating as follows:\n",
    "\n",
    "#### $\\hat{r_{ui}} = \\frac{\\sum_{u^{'}} sim(u, u^{'})r_{u^{'}i}}{\\sum_{u^{'}} |sim(u, u^{'})|}$\n",
    "\n",
    "Drawback:  its performance decreases when we have sparse data which hinders scalability of this approach for most of the real-world problems."
   ]
  },
  {
   "cell_type": "markdown",
   "metadata": {},
   "source": [
    "#### Implementation"
   ]
  },
  {
   "cell_type": "markdown",
   "metadata": {},
   "source": [
    "Below code creates two new columns for user id and movie id to facilitate the creation of the user item matrix"
   ]
  },
  {
   "cell_type": "code",
   "execution_count": 16,
   "metadata": {},
   "outputs": [
    {
     "name": "stdout",
     "output_type": "stream",
     "text": [
      "2353 users\n",
      "1465 movies\n"
     ]
    }
   ],
   "source": [
    "from itertools import cycle\n",
    "n_users = df_ratings.userID.unique().shape[0]\n",
    "n_movies = df_ratings.movieID.unique().shape[0]\n",
    "\n",
    "l_users = cycle(list(range(n_users)))\n",
    "l_movies = list(range(n_movies))\n",
    "df_ratings['user_id'] = df_ratings['userID'].astype(\"int\")\n",
    "df_ratings['movie_id'] = df_ratings['movieID'].astype(\"int\")\n",
    "df_ratings['movieID'] = df_ratings['movieID'].astype(\"int\")\n",
    "#df_ratings['movie_id2'] = df_ratings['movie_id'].astype(\"str\")\n",
    "current_idm = 1\n",
    "current_idu = 747\n",
    "indm = 1\n",
    "indu = 1\n",
    "listMID = list(df_ratings[\"movieID\"])\n",
    "for idx, row in df_ratings.iterrows():\n",
    "    new_idm = int(df_ratings.loc[idx, 'movieID'])\n",
    "    #intialize the  foudn movie id in list\n",
    "    foundm = False\n",
    "    for k in range(1465):\n",
    "        if new_idm in listMID:\n",
    "            #get the index\n",
    "            lind = listMID.index(new_idm)\n",
    "            #update the movie_id\n",
    "            df_ratings.loc[lind, 'movie_id'] = indm\n",
    "            #now set that list item to zero\n",
    "            listMID[lind]=0\n",
    "            foundm = True\n",
    "        else:\n",
    "            #break and fetch a new row\n",
    "            break\n",
    "    #increment the indicator\n",
    "    if foundm:\n",
    "        indm+=1\n",
    "    #current_idm = new_idm\n",
    "    \n",
    "    #there is a bit of logic problem here...\n",
    "    new_idu = int(df_ratings.loc[idx, 'userID'])\n",
    "    if new_idu==current_idu:\n",
    "        df_ratings.loc[idx, 'user_id'] = indu\n",
    "    else:\n",
    "        indu+=1\n",
    "        current_idu = new_idu\n",
    "        df_ratings.loc[idx, 'user_id'] = indu\n",
    "        \n",
    "df_ratings\n",
    "print(str(n_users) + ' users')\n",
    "print(str(n_movies) + ' movies')"
   ]
  },
  {
   "cell_type": "code",
   "execution_count": 17,
   "metadata": {},
   "outputs": [
    {
     "data": {
      "text/html": [
       "<div>\n",
       "<style>\n",
       "    .dataframe thead tr:only-child th {\n",
       "        text-align: right;\n",
       "    }\n",
       "\n",
       "    .dataframe thead th {\n",
       "        text-align: left;\n",
       "    }\n",
       "\n",
       "    .dataframe tbody tr th {\n",
       "        vertical-align: top;\n",
       "    }\n",
       "</style>\n",
       "<table border=\"1\" class=\"dataframe\">\n",
       "  <thead>\n",
       "    <tr style=\"text-align: right;\">\n",
       "      <th></th>\n",
       "      <th>userID</th>\n",
       "      <th>movieID</th>\n",
       "      <th>rating</th>\n",
       "      <th>user_id</th>\n",
       "      <th>movie_id</th>\n",
       "    </tr>\n",
       "  </thead>\n",
       "  <tbody>\n",
       "    <tr>\n",
       "      <th>0</th>\n",
       "      <td>747</td>\n",
       "      <td>1193</td>\n",
       "      <td>5</td>\n",
       "      <td>1</td>\n",
       "      <td>1</td>\n",
       "    </tr>\n",
       "    <tr>\n",
       "      <th>1</th>\n",
       "      <td>747</td>\n",
       "      <td>661</td>\n",
       "      <td>3</td>\n",
       "      <td>1</td>\n",
       "      <td>2</td>\n",
       "    </tr>\n",
       "    <tr>\n",
       "      <th>2</th>\n",
       "      <td>747</td>\n",
       "      <td>2804</td>\n",
       "      <td>5</td>\n",
       "      <td>1</td>\n",
       "      <td>3</td>\n",
       "    </tr>\n",
       "    <tr>\n",
       "      <th>3</th>\n",
       "      <td>747</td>\n",
       "      <td>919</td>\n",
       "      <td>4</td>\n",
       "      <td>1</td>\n",
       "      <td>4</td>\n",
       "    </tr>\n",
       "    <tr>\n",
       "      <th>4</th>\n",
       "      <td>747</td>\n",
       "      <td>2791</td>\n",
       "      <td>4</td>\n",
       "      <td>1</td>\n",
       "      <td>5</td>\n",
       "    </tr>\n",
       "  </tbody>\n",
       "</table>\n",
       "</div>"
      ],
      "text/plain": [
       "   userID  movieID  rating  user_id  movie_id\n",
       "0     747     1193       5        1         1\n",
       "1     747      661       3        1         2\n",
       "2     747     2804       5        1         3\n",
       "3     747      919       4        1         4\n",
       "4     747     2791       4        1         5"
      ]
     },
     "execution_count": 17,
     "metadata": {},
     "output_type": "execute_result"
    }
   ],
   "source": [
    "df_ratings.head()"
   ]
  },
  {
   "cell_type": "code",
   "execution_count": 18,
   "metadata": {},
   "outputs": [],
   "source": [
    "## construct a user item matrix\n",
    "m_ratings = np.zeros((n_users, n_movies))\n",
    "for row in df_ratings.itertuples():\n",
    "    #row[3] will be user rating row[4] user_id and row[5] movie_id  \n",
    "    m_ratings[row[4]-1, row[5]-1] = row[3]"
   ]
  },
  {
   "cell_type": "code",
   "execution_count": 19,
   "metadata": {},
   "outputs": [
    {
     "name": "stdout",
     "output_type": "stream",
     "text": [
      "31620.0\n",
      "Sparsity: 0.92%\n"
     ]
    }
   ],
   "source": [
    "#examine the sparsity of the matrix\n",
    "sparsity = float(len(m_ratings.nonzero()[0]))\n",
    "print(sparsity)\n",
    "sparsity /= (m_ratings.shape[0] * m_ratings.shape[1])\n",
    "sparsity *= 100\n",
    "print('Sparsity: {:4.2f}%'.format(sparsity))"
   ]
  },
  {
   "cell_type": "markdown",
   "metadata": {},
   "source": []
  },
  {
   "cell_type": "markdown",
   "metadata": {},
   "source": [
    "Split the data into training and test set."
   ]
  },
  {
   "cell_type": "code",
   "execution_count": 20,
   "metadata": {
    "collapsed": true
   },
   "outputs": [],
   "source": [
    "#split into training and testing\n",
    "def train_test_split(m_ratings):\n",
    "    test = np.zeros(m_ratings.shape)\n",
    "    train = m_ratings.copy()\n",
    "    for user in range(m_ratings.shape[0]):\n",
    "        #checking for xero ratings\n",
    "        #confirm with tobias, if user rated less than say k-movies, move to a different pipeline\n",
    "        if np.count_nonzero(m_ratings[user,:])<20:\n",
    "            continue\n",
    "        test_ratings = np.random.choice(m_ratings[user, :].nonzero()[0], size=10, replace=False)\n",
    "        train[user, test_ratings] = 0.\n",
    "        test[user, test_ratings] = m_ratings[user, test_ratings]\n",
    "        \n",
    "    # Test and training are truly disjoint\n",
    "    assert(np.all((train * test) == 0)) \n",
    "    return train, test"
   ]
  },
  {
   "cell_type": "markdown",
   "metadata": {},
   "source": [
    "Assign the test set to the train handle and the test set to the test handle"
   ]
  },
  {
   "cell_type": "code",
   "execution_count": 21,
   "metadata": {},
   "outputs": [],
   "source": [
    "train, test = train_test_split(m_ratings)"
   ]
  },
  {
   "cell_type": "markdown",
   "metadata": {},
   "source": [
    "This module compute the similarity between two user ratings of an item."
   ]
  },
  {
   "cell_type": "code",
   "execution_count": 22,
   "metadata": {
    "collapsed": true
   },
   "outputs": [],
   "source": [
    "#compute the similarity\n",
    "def fast_similarity(m_ratings, kind='user', epsilon=1e-9):\n",
    "    # epsilon -> small number for handling dived-by-zero errors\n",
    "    if kind == 'user':\n",
    "        sim = m_ratings.dot(m_ratings.T) + epsilon\n",
    "    elif kind == 'item':\n",
    "        sim = m_ratings.T.dot(m_ratings) + epsilon\n",
    "    norms = np.array([np.sqrt(np.diagonal(sim))])\n",
    "    return (sim / norms / norms.T)"
   ]
  },
  {
   "cell_type": "markdown",
   "metadata": {},
   "source": [
    "Train the model."
   ]
  },
  {
   "cell_type": "code",
   "execution_count": 23,
   "metadata": {},
   "outputs": [
    {
     "data": {
      "text/plain": [
       "array([[  1.00000000e+00,   5.89993605e-12,   2.12896795e-01, ...,\n",
       "          2.42464322e-11,   2.10326586e-01,   3.63696484e-11],\n",
       "       [  5.89993605e-12,   1.00000000e+00,   1.35656367e-01, ...,\n",
       "          2.70369035e-11,   1.59908614e-01,   4.05553553e-11],\n",
       "       [  2.12896795e-01,   1.35656367e-01,   1.00000000e+00, ...,\n",
       "          2.78747337e-11,   1.57536639e-01,   4.18121005e-11],\n",
       "       ..., \n",
       "       [  2.42464322e-11,   2.70369035e-11,   2.78747337e-11, ...,\n",
       "          1.00000000e+00,   1.46035985e-11,   1.66666667e-10],\n",
       "       [  2.10326586e-01,   1.59908614e-01,   1.57536639e-01, ...,\n",
       "          1.46035985e-11,   1.00000000e+00,   2.19053977e-11],\n",
       "       [  3.63696484e-11,   4.05553553e-11,   4.18121005e-11, ...,\n",
       "          1.66666667e-10,   2.19053977e-11,   1.00000000e+00]])"
      ]
     },
     "execution_count": 23,
     "metadata": {},
     "output_type": "execute_result"
    }
   ],
   "source": [
    "#train the model\n",
    "fast_similarity(train, kind='user')"
   ]
  },
  {
   "cell_type": "code",
   "execution_count": 24,
   "metadata": {},
   "outputs": [
    {
     "data": {
      "text/plain": [
       "array([[  1.00000000e+00,   5.89993605e-12,   2.12896795e-01, ...,\n",
       "          2.42464322e-11,   2.10326586e-01,   3.63696484e-11],\n",
       "       [  5.89993605e-12,   1.00000000e+00,   1.35656367e-01, ...,\n",
       "          2.70369035e-11,   1.59908614e-01,   4.05553553e-11],\n",
       "       [  2.12896795e-01,   1.35656367e-01,   1.00000000e+00, ...,\n",
       "          2.78747337e-11,   1.57536639e-01,   4.18121005e-11],\n",
       "       ..., \n",
       "       [  2.42464322e-11,   2.70369035e-11,   2.78747337e-11, ...,\n",
       "          1.00000000e+00,   1.46035985e-11,   1.66666667e-10],\n",
       "       [  2.10326586e-01,   1.59908614e-01,   1.57536639e-01, ...,\n",
       "          1.46035985e-11,   1.00000000e+00,   2.19053977e-11],\n",
       "       [  3.63696484e-11,   4.05553553e-11,   4.18121005e-11, ...,\n",
       "          1.66666667e-10,   2.19053977e-11,   1.00000000e+00]])"
      ]
     },
     "execution_count": 24,
     "metadata": {},
     "output_type": "execute_result"
    }
   ],
   "source": [
    "#get the similarity score\n",
    "user_similarity = fast_similarity(train, kind='user')\n",
    "item_similarity = fast_similarity(train, kind='item')\n",
    "item_similarity\n",
    "user_similarity\n",
    "#print(item_similarity[:10, :4])"
   ]
  },
  {
   "cell_type": "markdown",
   "metadata": {},
   "source": [
    "Make predictions to fill-up the larger matrix."
   ]
  },
  {
   "cell_type": "code",
   "execution_count": 25,
   "metadata": {
    "collapsed": true
   },
   "outputs": [],
   "source": [
    "#prediction model\n",
    "def predict_fast_simple(ratings, similarity, kind='user'):\n",
    "    if kind == 'user':\n",
    "        return similarity.dot(ratings) / np.array([np.abs(similarity).sum(axis=1)]).T\n",
    "    elif kind == 'item':\n",
    "        return ratings.dot(similarity) / np.array([np.abs(similarity).sum(axis=1)])"
   ]
  },
  {
   "cell_type": "code",
   "execution_count": 26,
   "metadata": {},
   "outputs": [
    {
     "name": "stdout",
     "output_type": "stream",
     "text": [
      "[[  1.60608669e+00   7.06922751e-01   1.57307419e+00 ...,   2.26071710e-03\n",
      "    2.26071710e-03   0.00000000e+00]\n",
      " [  9.41411487e-01   3.74581485e-01   8.97856211e-01 ...,   1.78510768e-03\n",
      "    1.78510768e-03   0.00000000e+00]\n",
      " [  1.24375815e+00   4.91734297e-01   1.10679870e+00 ...,   1.86700581e-03\n",
      "    1.86700581e-03   0.00000000e+00]\n",
      " ..., \n",
      " [  6.05093484e-10   5.70794214e-10   6.09701827e-10 ...,   9.36032100e-13\n",
      "    9.36032100e-13   0.00000000e+00]\n",
      " [  1.14674623e+00   4.37914697e-01   9.61183239e-01 ...,   9.69438179e-03\n",
      "    9.69438179e-03   0.00000000e+00]\n",
      " [  9.80335869e-10   9.24766265e-10   5.86368746e-02 ...,   1.51650260e-12\n",
      "    1.51650260e-12   0.00000000e+00]]\n"
     ]
    }
   ],
   "source": [
    "#we wll now use the similarity matrix to make some predictions\n",
    "print(predict_fast_simple(train, user_similarity, kind='user'))"
   ]
  },
  {
   "cell_type": "code",
   "execution_count": 27,
   "metadata": {
    "collapsed": true
   },
   "outputs": [],
   "source": [
    "#Check the prediction accuracy for filling in missing ratings"
   ]
  },
  {
   "cell_type": "code",
   "execution_count": 28,
   "metadata": {},
   "outputs": [
    {
     "name": "stdout",
     "output_type": "stream",
     "text": [
      "User-based CF MSE:  10.4871403319\n",
      "Item-based CF MSE:  10.9781921738\n"
     ]
    }
   ],
   "source": [
    "#validate the prediction accuracy using the scikit learn mse metric\n",
    "from sklearn.metrics import mean_squared_error\n",
    "\n",
    "def get_mse(pred, actual):\n",
    "    # Ignore nonzero terms.\n",
    "    pred = pred[actual.nonzero()].flatten()\n",
    "    actual = actual[actual.nonzero()].flatten()\n",
    "    return mean_squared_error(pred, actual)\n",
    "item_prediction = predict_fast_simple(train, item_similarity, kind='item')\n",
    "user_prediction = predict_fast_simple(train, user_similarity, kind='user')\n",
    "\n",
    "print('User-based CF MSE: ',str(get_mse(user_prediction, test)))\n",
    "print('Item-based CF MSE: ', str(get_mse(item_prediction, test)))"
   ]
  },
  {
   "cell_type": "markdown",
   "metadata": {},
   "source": [
    "The prediction error is a little high! There is no real difference between the user based similarity prediction and the item based similarity prediction."
   ]
  },
  {
   "cell_type": "markdown",
   "metadata": {},
   "source": [
    "### Top $k$ collaborative filtering.\n",
    "We will try to improve the test error by considering only the top k users who are most similar to the input user."
   ]
  },
  {
   "cell_type": "code",
   "execution_count": 29,
   "metadata": {
    "collapsed": true
   },
   "outputs": [],
   "source": [
    "#this is quite slow but will work okay\n",
    "def predict_topk(ratings, similarity, kind='user', k=40):\n",
    "    pred = np.zeros(ratings.shape)\n",
    "    if kind == 'user':\n",
    "        for i in range(ratings.shape[0]):\n",
    "            top_k_users = [np.argsort(similarity[:,i])[:-k-1:-1]]\n",
    "            for j in range(ratings.shape[1]):\n",
    "                pred[i, j] = similarity[i, :][top_k_users].dot(ratings[:, j][top_k_users]) \n",
    "                pred[i, j] /= np.sum(np.abs(similarity[i, :][top_k_users]))\n",
    "    if kind == 'item':\n",
    "        for j in range(ratings.shape[1]):\n",
    "            top_k_items = [np.argsort(similarity[:,j])[:-k-1:-1]]\n",
    "            for i in range(ratings.shape[0]):\n",
    "                pred[i, j] = similarity[j, :][top_k_items].dot(ratings[i, :][top_k_items].T) \n",
    "                pred[i, j] /= np.sum(np.abs(similarity[j, :][top_k_items]))        \n",
    "    \n",
    "    return pred"
   ]
  },
  {
   "cell_type": "code",
   "execution_count": 30,
   "metadata": {},
   "outputs": [
    {
     "name": "stdout",
     "output_type": "stream",
     "text": [
      "Top-k User-based CF MSE:  8.19592014546\n",
      "Top-k Item-based CF MSE:  8.68391523918\n"
     ]
    }
   ],
   "source": [
    "pred = predict_topk(train, user_similarity, kind='user', k=40)\n",
    "print('Top-k User-based CF MSE: ', str(get_mse(pred, test)))\n",
    "\n",
    "pred = predict_topk(train, item_similarity, kind='item', k=40)\n",
    "print('Top-k Item-based CF MSE: ', str(get_mse(pred, test)))"
   ]
  },
  {
   "cell_type": "markdown",
   "metadata": {},
   "source": [
    "There is improvement!!!"
   ]
  },
  {
   "cell_type": "markdown",
   "metadata": {},
   "source": [
    "#### This is a little worse. Tuning the parameter k."
   ]
  },
  {
   "cell_type": "code",
   "execution_count": 31,
   "metadata": {
    "collapsed": true
   },
   "outputs": [],
   "source": [
    "k_array = [5, 15, 30, 50, 100, 200]\n",
    "user_train_mse = []\n",
    "user_test_mse = []\n",
    "item_test_mse = []\n",
    "item_train_mse = []\n",
    "\n",
    "for k in k_array:\n",
    "    user_pred = predict_topk(train, user_similarity, kind='user', k=k)\n",
    "    item_pred = predict_topk(train, item_similarity, kind='item', k=k)\n",
    "    \n",
    "    user_train_mse += [get_mse(user_pred, train)]\n",
    "    user_test_mse += [get_mse(user_pred, test)]\n",
    "    \n",
    "    item_train_mse += [get_mse(item_pred, train)]\n",
    "    item_test_mse += [get_mse(item_pred, test)]  \n",
    "    "
   ]
  },
  {
   "cell_type": "code",
   "execution_count": 32,
   "metadata": {},
   "outputs": [
    {
     "data": {
      "image/png": "[encoded data removed]",
      "text/plain": [
       "<matplotlib.figure.Figure at 0x1a95bcda7b8>"
      ]
     },
     "metadata": {},
     "output_type": "display_data"
    }
   ],
   "source": [
    "#plot the estimates\n",
    "%matplotlib inline\n",
    "import matplotlib.pyplot as plt\n",
    "import seaborn as sns\n",
    "sns.set()\n",
    "\n",
    "pal = sns.color_palette(\"Set2\", 2)\n",
    "\n",
    "plt.figure(figsize=(8, 8))\n",
    "plt.plot(k_array, user_train_mse, c=pal[0], label='User-based train', alpha=0.5, linewidth=5)\n",
    "plt.plot(k_array, user_test_mse, c=pal[0], label='User-based test', linewidth=5)\n",
    "plt.plot(k_array, item_train_mse, c=pal[1], label='Item-based train', alpha=0.5, linewidth=5)\n",
    "plt.plot(k_array, item_test_mse, c=pal[1], label='Item-based test', linewidth=5)\n",
    "plt.legend(loc='best', fontsize=20)\n",
    "plt.xticks(fontsize=16);\n",
    "plt.yticks(fontsize=16);\n",
    "plt.xlabel('k', fontsize=30);\n",
    "plt.ylabel('MSE', fontsize=30);"
   ]
  },
  {
   "cell_type": "markdown",
   "metadata": {
    "collapsed": true
   },
   "source": [
    "Making predictions for users given a movie item."
   ]
  },
  {
   "cell_type": "code",
   "execution_count": 33,
   "metadata": {
    "collapsed": true
   },
   "outputs": [],
   "source": [
    "def top_k_movies(similarity, movie_idx, k=6):\n",
    "    return [np.argsort(similarity[movie_idx,:])[:-k-1:-1]]"
   ]
  },
  {
   "cell_type": "code",
   "execution_count": 44,
   "metadata": {},
   "outputs": [
    {
     "data": {
      "text/plain": [
       "238          Dumb & Dumber \n",
       "310           American Pie \n",
       "130     Addams Family, The \n",
       "405    Karate Kid III, The \n",
       "220            Stand by Me \n",
       "178     Lady and the Tramp \n",
       "Name: name, dtype: object"
      ]
     },
     "execution_count": 44,
     "metadata": {},
     "output_type": "execute_result"
    }
   ],
   "source": [
    "\n",
    "movies  = top_k_movies(item_similarity, 239, 6)\n",
    "data.loc[movies[0]-1, 'name']"
   ]
  },
  {
   "cell_type": "code",
   "execution_count": null,
   "metadata": {
    "collapsed": true
   },
   "outputs": [],
   "source": []
  }
 ],
 "metadata": {
  "kernelspec": {
   "display_name": "Python 3",
   "language": "python",
   "name": "python3"
  },
  "language_info": {
   "codemirror_mode": {
    "name": "ipython",
    "version": 3
   },
   "file_extension": ".py",
   "mimetype": "text/x-python",
   "name": "python",
   "nbconvert_exporter": "python",
   "pygments_lexer": "ipython3",
   "version": "3.6.3"
  }
 },
 "nbformat": 4,
 "nbformat_minor": 2
}
